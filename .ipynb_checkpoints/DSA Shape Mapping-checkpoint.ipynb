{
 "metadata": {
  "name": ""
 },
 "nbformat": 3,
 "nbformat_minor": 0,
 "worksheets": [
  {
   "cells": [
    {
     "cell_type": "code",
     "collapsed": false,
     "input": [
      "import csv"
     ],
     "language": "python",
     "metadata": {},
     "outputs": [],
     "prompt_number": 3
    },
    {
     "cell_type": "raw",
     "metadata": {},
     "source": [
      "Read in the County CSV"
     ]
    },
    {
     "cell_type": "code",
     "collapsed": false,
     "input": [
      "filename = \"ORG_OPO_Service_OCL_OTH.csv\"\n",
      "reader = csv.DictReader(open(filename, 'rU'))\n",
      "dsa_dict = {}\n",
      "\n",
      "#Grab State column, DSA codes and list of counties\n",
      "for row in reader:\n",
      "    #Break list of counties into list\n",
      "    county_list = row[\"ServiceCounties\"].split(', ')\n",
      "    #print county_list\n",
      "    dsa_dict[row[\"OPOProviderName\"]] = {'counties': county_list, 'state': row[\"StateName\"]}\n",
      "\n",
      "print dsa_dict"
     ],
     "language": "python",
     "metadata": {},
     "outputs": [
      {
       "output_type": "stream",
       "stream": "stdout",
       "text": [
        "{'Upstate New York Transplant Services Inc': {'state': 'New York', 'counties': ['Allegany', 'Cattaraugus', 'Chautauqua', 'Erie', 'Genesee', 'Niagara', 'Orleans', 'Wyoming']}, 'Sierra Donor Services': {'state': 'California', 'counties': ['Amador', 'Calaveras', 'Colusa', 'El Dorado', 'Nevada', 'Placer', 'Sacramento', 'Sierra', 'Sutter', 'Yolo', 'Yuba']}, 'LifeShare Transplant Donor Services of Oklahoma': {'state': 'Oklahoma', 'counties': ['Adair', 'Alfalfa', 'Atoka', 'Beaver', 'Beckham', 'Blaine', 'Bryan', 'Caddo', 'Canadian', 'Carter', 'Cherokee', 'Choctaw', 'Cimarron', 'Cleveland', 'Coal', 'Comanche', 'Cotton', 'Craig', 'Creek', 'Custer', 'Delaware', 'Dewey', 'Ellis', 'Garfield', 'Garvin', 'Grady', 'Grant', 'Greer', 'Harmon', 'Harper', 'Haskell', 'Hughes', 'Jackson', 'Jefferson', 'Johnston', 'Kay', 'Kingfisher', 'Kiowa', 'Latimer', 'Le Flore', 'Lincoln', 'Logan', 'Love', 'Major', 'Marshall', 'Mayes', 'McClain', 'McCurtain', 'McIntosh', 'Murray', 'Muskogee', 'Noble', 'Nowata', 'Okfuskee', 'Oklahoma', 'Okmulgee', 'Osage', 'Ottawa', 'Pawnee', 'Payne', 'Pittsburg', 'Pontotoc', 'Pottawatomie', 'Pushmataha', 'Roger Mills', 'Rogers', 'Seminole', 'Sequoyah', 'Stephens', 'Texas', 'Tillman', 'Tulsa', 'Wagoner', 'Washington', 'Washita', 'Woods', 'Woodward']}, 'Intermountain Donor Services': {'state': 'Wyoming', 'counties': ['Bannock', 'Bear Lake', 'Beaver', 'Bingham', 'Blaine', 'Bonneville', 'Box Elder', 'Butte', 'Cache', 'Camas', 'Carbon', 'Caribou', 'Cassia', 'Clark', 'Custer', 'Daggett', 'Davis', 'Duchesne', 'Elmore', 'Emery', 'Franklin', 'Fremont', 'Garfield', 'Gooding', 'Grand', 'Iron', 'Jefferson', 'Jerome', 'Juab', 'Kane', 'Lincoln', 'Lincoln', 'Madison', 'Millard', 'Minidoka', 'Morgan', 'Oneida', 'Owyhee', 'Piute', 'Power', 'Rich', 'Salt Lake', 'San Juan', 'Sanpete', 'Sevier', 'Summit', 'Sweetwater', 'Teton', 'Tooele', 'Twin Falls', 'Uinta', 'Uintah', 'Utah', 'Wasatch', 'Washington', 'Wayne', 'Weber']}, 'LifeLink of Florida': {'state': 'Florida', 'counties': ['Charlotte', 'DeSoto', 'Glades', 'Hardee', 'Hendry', 'Hernando', 'Highlands', 'Hillsborough', 'Lee', 'Manatee', 'Martin', 'Pasco', 'Pinellas', 'Polk', 'Sarasota']}, 'Gift of Hope Organ & Tissue Donor Network': {'state': 'Iowa', 'counties': ['Adams', 'Boone', 'Brown', 'Bureau', 'Calhoun', 'Carroll', 'Cass', 'Champaign', 'Christian', 'Clark', 'Clay', 'Coles', 'Cook', 'Crawford', 'Cumberland', 'De Witt', 'DeKalb', 'Douglas', 'DuPage', 'Edgar', 'Effingham', 'Fayette', 'Ford', 'Fulton', 'Greene', 'Grundy', 'Hancock', 'Henderson', 'Henry', 'Iroquois', 'Jasper', 'Jo Daviess', 'Kane', 'Kankakee', 'Kendall', 'Knox', 'La Salle', 'Lake', 'Lake', 'Lawrence', 'Lee', 'Livingston', 'Logan', 'Macon', 'Macoupin', 'Marshall', 'Mason', 'McDonough', 'McHenry', 'McLean', 'Menard', 'Mercer', 'Montgomery', 'Morgan', 'Moultrie', 'Ogle', 'Peoria', 'Piatt', 'Pike', 'Porter', 'Putnam', 'Richland', 'Rock Island', 'Sangamon', 'Schuyler', 'Scott', 'Scott', 'Shelby', 'Stark', 'Stephenson', 'Tazewell', 'Vermilion', 'Warren', 'Whiteside', 'Will', 'Winnebago', 'Woodford']}, 'TransLife': {'state': 'Florida', 'counties': ['Brevard', 'Flagler', 'Indian River', 'Lake', 'Okeechobee', 'Orange', 'Osceola', 'Seminole', 'Sumter', 'Volusia']}, 'LifeSource Upper Midwest Organ Procurement Organization': {'state': 'Wisconsin', 'counties': ['Adams', 'Aitkin', 'Anoka', 'Aurora', 'Barnes', 'Beadle', 'Becker', 'Beltrami', 'Bennett', 'Benson', 'Benton', 'Big Stone', 'Billings', 'Blue Earth', 'Bon Homme', 'Bottineau', 'Bowman', 'Brookings', 'Brown', 'Brown', 'Brule', 'Buffalo', 'Burke', 'Burleigh', 'Butte', 'Campbell', 'Carlton', 'Carver', 'Cass', 'Cass', 'Cavalier', 'Charles Mix', 'Chippewa', 'Chisago', 'Clark', 'Clay', 'Clay', 'Clearwater', 'Codington', 'Cook', 'Corson', 'Cottonwood', 'Crow Wing', 'Custer', 'Dakota', 'Davison', 'Day', 'Deuel', 'Dewey', 'Dickey', 'Divide', 'Dodge', 'Douglas', 'Douglas', 'Douglas', 'Dunn', 'Eddy', 'Edmunds', 'Emmons', 'Fall River', 'Faribault', 'Faulk', 'Fillmore', 'Foster', 'Freeborn', 'Golden Valley', 'Goodhue', 'Grand Forks', 'Grant', 'Grant', 'Grant', 'Gregory', 'Griggs', 'Haakon', 'Hamlin', 'Hand', 'Hanson', 'Harding', 'Hennepin', 'Hettinger', 'Hubbard', 'Hughes', 'Hutchinson', 'Hyde', 'Isanti', 'Itasca', 'Jackson', 'Jackson', 'Jerauld', 'Jones', 'Kanabec', 'Kandiyohi', 'Kidder', 'Kingsbury', 'Kittson', 'Koochiching', 'Lac qui Parle', 'Lake', 'Lake', 'Lake of the Woods', 'LaMoure', 'Lawrence', 'Le Sueur', 'Lincoln', 'Lincoln', 'Logan', 'Lyman', 'Lyon', 'Mahnomen', 'Marshall', 'Marshall', 'Martin', 'McCook', 'McHenry', 'McIntosh', 'McKenzie', 'McLean', 'McLeod', 'McPherson', 'Meade', 'Meeker', 'Mellette', 'Mercer', 'Mille Lacs', 'Miner', 'Minnehaha', 'Moody', 'Morrison', 'Morton', 'Mountrail', 'Mower', 'Murray', 'Nelson', 'Nicollet', 'Nobles', 'Norman', 'Oliver', 'Olmsted', 'Otter Tail', 'Pembina', 'Pennington', 'Pennington', 'Perkins', 'Pierce', 'Pierce', 'Pine', 'Pipestone', 'Polk', 'Pope', 'Potter', 'Ramsey', 'Ramsey', 'Ransom', 'Red Lake', 'Redwood', 'Renville', 'Renville', 'Rice', 'Richland', 'Roberts', 'Rock', 'Rolette', 'Roseau', 'Sanborn', 'Sargent', 'Scott', 'Shannon', 'Sherburne', 'Sheridan', 'Sibley', 'Sioux', 'Slope', 'Spink', 'St. Croix', 'St. Louis', 'Stanley', 'Stark', 'Stearns', 'Steele', 'Steele', 'Stevens', 'Stutsman', 'Sully', 'Swift', 'Todd', 'Todd', 'Towner', 'Traill', 'Traverse', 'Tripp', 'Turner', 'Union', 'Wabasha', 'Wadena', 'Walsh', 'Walworth', 'Ward', 'Waseca', 'Washington', 'Watonwan', 'Wells', 'Wilkin', 'Williams', 'Winona', 'Wright', 'Yankton', 'Yellow Medicine', 'Ziebach']}, 'Kentucky Organ Donor Affiliates': {'state': 'West Virginia', 'counties': ['Adair', 'Allen', 'Anderson', 'Ballard', 'Barren', 'Bath', 'Bell', 'Bourbon', 'Boyd', 'Boyle', 'Bracken', 'Breathitt', 'Breckinridge', 'Bullitt', 'Butler', 'Cabell', 'Caldwell', 'Calloway', 'Carlisle', 'Carroll', 'Carter', 'Casey', 'Christian', 'Clark', 'Clark', 'Clay', 'Clinton', 'Crittenden', 'Cumberland', 'Daviess', 'Edmonson', 'Elliott', 'Estill', 'Fayette', 'Fleming', 'Floyd', 'Floyd', 'Franklin', 'Fulton', 'Garrard', 'Graves', 'Grayson', 'Green', 'Greenup', 'Hancock', 'Hardin', 'Harlan', 'Harrison', 'Harrison', 'Hart', 'Henry', 'Hickman', 'Hopkins', 'Jackson', 'Jefferson', 'Jessamine', 'Johnson', 'Knott', 'Knox', 'Larue', 'Laurel', 'Lawrence', 'Lawrence', 'Lee', 'Leslie', 'Letcher', 'Lewis', 'Lincoln', 'Livingston', 'Logan', 'Lyon', 'Madison', 'Magoffin', 'Marion', 'Marshall', 'Martin', 'Mason', 'McCracken', 'McCreary', 'McLean', 'Meade', 'Menifee', 'Mercer', 'Metcalfe', 'Monroe', 'Montgomery', 'Morgan', 'Muhlenberg', 'Nelson', 'Nicholas', 'Ohio', 'Oldham', 'Owen', 'Owsley', 'Perry', 'Pike', 'Powell', 'Pulaski', 'Robertson', 'Rockcastle', 'Rowan', 'Russell', 'Scott', 'Scott', 'Shelby', 'Simpson', 'Spencer', 'Taylor', 'Todd', 'Trigg', 'Trimble', 'Union', 'Warren', 'Washington', 'Wayne', 'Wayne', 'Webster', 'Whitley', 'Wolfe', 'Woodford']}, 'Arkansas Regional Organ Recovery Agency': {'state': 'Arkansas', 'counties': ['Arkansas', 'Ashley', 'Baxter', 'Benton', 'Boone', 'Bradley', 'Calhoun', 'Carroll', 'Chicot', 'Clark', 'Cleburne', 'Cleveland', 'Columbia', 'Conway', 'Crawford', 'Dallas', 'Desha', 'Drew', 'Faulkner', 'Franklin', 'Fulton', 'Garland', 'Grant', 'Hempstead', 'Hot Spring', 'Howard', 'Izard', 'Jackson', 'Jefferson', 'Johnson', 'Lafayette', 'Lincoln', 'Little River', 'Logan', 'Lonoke', 'Madison', 'Marion', 'Monroe', 'Montgomery', 'Nevada', 'Newton', 'Ouachita', 'Perry', 'Pike', 'Poinsett', 'Polk', 'Pope', 'Prairie', 'Pulaski', 'Randolph', 'Saline', 'Scott', 'Searcy', 'Sebastian', 'Sevier', 'Sharp', 'Stone', 'Union', 'Van Buren', 'Washington', 'White', 'Woodruff', 'Yell']}, 'Lifeshare of the Carolinas': {'state': 'South Carolina', 'counties': ['Anson', 'Buncombe', 'Burke', 'Cabarrus', 'Cherokee', 'Clay', 'Cleveland', 'Gaston', 'Graham', 'Haywood', 'Henderson', 'Jackson', 'Lincoln', 'Macon', 'Madison', 'Mecklenburg', 'Polk', 'Rutherford', 'Stanly', 'Swain', 'Transylvania', 'Union', 'York']}, 'New Mexico Donor Services': {'state': 'New Mexico', 'counties': ['Bernalillo', 'Catron', 'Chaves', 'Cibola', 'Colfax', 'Curry', 'De Baca', 'Dona Ana', 'Eddy', 'Grant', 'Guadalupe', 'Harding', 'Hidalgo', 'Lea', 'Lincoln', 'Los Alamos', 'Luna', 'McKinley', 'Mora', 'Otero', 'Quay', 'Rio Arriba', 'Roosevelt', 'San Juan', 'San Miguel', 'Sandoval', 'Santa Fe', 'Sierra', 'Socorro', 'Taos', 'Torrance', 'Union', 'Valencia']}, 'Finger Lakes Donor Recovery Network': {'state': 'New York', 'counties': ['Cayuga', 'Chenango', 'Cortland', 'Jefferson', 'Lewis', 'Livingston', 'Madison', 'Monroe', 'Onondaga', 'Ontario', 'Oswego', 'Schuyler', 'Seneca', 'St. Lawrence', 'Steuben', 'Tompkins', 'Wayne', 'Yates']}, 'LifeBanc': {'state': 'Ohio', 'counties': ['Ashland', 'Ashtabula', 'Carroll', 'Columbiana', 'Cuyahoga', 'Erie', 'Geauga', 'Harrison', 'Holmes', 'Huron', 'Lake', 'Lorain', 'Mahoning', 'Medina', 'Portage', 'Stark', 'Summit', 'Trumbull', 'Tuscarawas', 'Wayne']}, 'Indiana Organ Procurement Organization': {'state': 'Kentucky', 'counties': ['Adams', 'Allen', 'Bartholomew', 'Benton', 'Blackford', 'Boone', 'Brown', 'Carroll', 'Cass', 'Clay', 'Clinton', 'Crawford', 'Daviess', 'De Kalb', 'Decatur', 'Delaware', 'Dubois', 'Elkhart', 'Fayette', 'Fountain', 'Franklin', 'Fulton', 'Gibson', 'Grant', 'Greene', 'Hamilton', 'Hancock', 'Henderson', 'Hendricks', 'Henry', 'Howard', 'Huntington', 'Jackson', 'Jasper', 'Jay', 'Jefferson', 'Jennings', 'Johnson', 'Knox', 'Kosciusko', 'La Porte', 'Lagrange', 'Lawrence', 'Madison', 'Marion', 'Marshall', 'Martin', 'Miami', 'Monroe', 'Montgomery', 'Morgan', 'Newton', 'Noble', 'Orange', 'Owen', 'Parke', 'Perry', 'Pike', 'Posey', 'Pulaski', 'Putnam', 'Randolph', 'Ripley', 'Rush', 'Shelby', 'Spencer', 'St. Joseph', 'Starke', 'Steuben', 'Sullivan', 'Switzerland', 'Tippecanoe', 'Tipton', 'Union', 'Vanderburgh', 'Vermillion', 'Vigo', 'Wabash', 'Warren', 'Warrick', 'Washington', 'Wayne', 'Wells', 'White', 'Whitley']}, 'Life Alliance Organ Recovery Agency': {'state': 'Florida', 'counties': ['Broward', 'Collier', 'Miami-Dade', 'Monroe', 'Palm Beach', 'St. Lucie']}, 'Lifesharing - A Donate Life Organization': {'state': 'California', 'counties': ['Imperial', 'San Diego']}, 'LifeChoice Donor Services': {'state': 'Massachusetts', 'counties': ['Franklin', 'Hampden', 'Hampshire', 'Hartford', 'Litchfield', 'Middlesex', 'New London', 'Tolland', 'Windham']}, 'Donor Alliance': {'state': 'Wyoming', 'counties': ['Adams', 'Alamosa', 'Albany', 'Arapahoe', 'Archuleta', 'Baca', 'Bent', 'Big Horn', 'Boulder', 'Broomfield', 'Campbell', 'Carbon', 'Chaffee', 'Cheyenne', 'Clear Creek', 'Conejos', 'Converse', 'Costilla', 'Crook', 'Crowley', 'Custer', 'Delta', 'Denver', 'Dolores', 'Douglas', 'Eagle', 'El Paso', 'Elbert', 'Fremont', 'Fremont', 'Garfield', 'Gilpin', 'Goshen', 'Grand', 'Gunnison', 'Hinsdale', 'Hot Springs', 'Huerfano', 'Jackson', 'Jefferson', 'Johnson', 'Kiowa', 'Kit Carson', 'La Plata', 'Lake', 'Laramie', 'Larimer', 'Las Animas', 'Lincoln', 'Logan', 'Mesa', 'Mineral', 'Moffat', 'Montezuma', 'Montrose', 'Morgan', 'Natrona', 'Niobrara', 'Otero', 'Ouray', 'Park', 'Park', 'Phillips', 'Pitkin', 'Platte', 'Prowers', 'Pueblo', 'Rio Blanco', 'Rio Grande', 'Routt', 'Saguache', 'San Juan', 'San Miguel', 'Sedgwick', 'Sheridan', 'Sublette', 'Summit', 'Teller', 'Teton', 'Washakie', 'Washington', 'Weld', 'Weston', 'Yuma']}, 'Southwest Transplant Alliance': {'state': 'Texas', 'counties': ['Anderson', 'Aransas', 'Archer', 'Baylor', 'Bee', 'Bell', 'Bosque', 'Bowie', 'Brazos', 'Brewster', 'Brown', 'Callahan', 'Camp', 'Cass', 'Cherokee', 'Clay', 'Coleman', 'Collin', 'Comanche', 'Cooke', 'Coryell', 'Crane', 'Crockett', 'Culberson', 'Dallas', 'Delta', 'Denton', 'Eastland', 'Ector', 'El Paso', 'Ellis', 'Falls', 'Fannin', 'Franklin', 'Freestone', 'Galveston', 'Goliad', 'Grayson', 'Gregg', 'Hardin', 'Harrison', 'Henderson', 'Hill', 'Hopkins', 'Hudspeth', 'Hunt', 'Jack', 'Jefferson', 'Jim Wells', 'Kaufman', 'Kleberg', 'Lamar', 'Leon', 'Limestone', 'Loving', 'Marion', 'Midland', 'Miller', 'Mills', 'Montague', 'Morris', 'Navarro', 'Nueces', 'Orange', 'Panola', 'Pecos', 'Rains', 'Reagan', 'Red River', 'Reeves', 'Refugio', 'Robertson', 'Rockwall', 'Rusk', 'San Patricio', 'Schleicher', 'Smith', 'Stephens', 'Sterling', 'Taylor', 'Titus', 'Upshur', 'Upton', 'Van Zandt', 'Victoria', 'Ward', 'Wichita', 'Winkler', 'Wood', 'Young']}, 'Iowa Donor Network': {'state': 'Nebraska', 'counties': ['Adair', 'Adams', 'Allamakee', 'Appanoose', 'Audubon', 'Benton', 'Black Hawk', 'Boone', 'Bremer', 'Buchanan', 'Buena Vista', 'Butler', 'Calhoun', 'Carroll', 'Cass', 'Cedar', 'Cerro Gordo', 'Cherokee', 'Chickasaw', 'Clarke', 'Clay', 'Clayton', 'Clinton', 'Crawford', 'Dakota', 'Dallas', 'Davis', 'Decatur', 'Delaware', 'Des Moines', 'Dickinson', 'Dubuque', 'Emmet', 'Fayette', 'Floyd', 'Franklin', 'Fremont', 'Greene', 'Grundy', 'Guthrie', 'Hamilton', 'Hancock', 'Hardin', 'Harrison', 'Henry', 'Howard', 'Humboldt', 'Ida', 'Iowa', 'Jackson', 'Jasper', 'Jefferson', 'Johnson', 'Jones', 'Keokuk', 'Kossuth', 'Lee', 'Linn', 'Louisa', 'Lucas', 'Lyon', 'Madison', 'Mahaska', 'Marion', 'Marshall', 'Mills', 'Mitchell', 'Monona', 'Monroe', 'Montgomery', 'Muscatine', \"O'Brien\", 'Osceola', 'Page', 'Palo Alto', 'Plymouth', 'Pocahontas', 'Polk', 'Poweshiek', 'Ringgold', 'Sac', 'Shelby', 'Sioux', 'Story', 'Tama', 'Taylor', 'Union', 'Van Buren', 'Wapello', 'Warren', 'Washington', 'Wayne', 'Webster', 'Winnebago', 'Winneshiek', 'Woodbury', 'Worth', 'Wright']}, 'LifeCenter Northwest': {'state': 'Washington', 'counties': ['Adams', 'Aleutians East', 'Aleutians West', 'Anchorage', 'Asotin', 'Beaverhead', 'Benewah', 'Benton', 'Bethel', 'Big Horn', 'Blaine', 'Bonner', 'Boundary', 'Bristol Bay', 'Broadwater', 'Carbon', 'Carter', 'Cascade', 'Chelan', 'Chouteau', 'Clallam', 'Clearwater', 'Columbia', 'Custer', 'Daniels', 'Dawson', 'Deer Lodge', 'Denali', 'Dillingham', 'Douglas', 'Fairbanks North Star', 'Fallon', 'Fergus', 'Ferry', 'Flathead', 'Franklin', 'Gallatin', 'Garfield', 'Garfield', 'Glacier', 'Golden Valley', 'Granite', 'Grant', 'Grays Harbor', 'Haines', 'Hill', 'Idaho', 'Island', 'Jefferson', 'Jefferson', 'Judith Basin', 'Juneau', 'Kenai Peninsula', 'Ketchikan Gateway', 'King', 'Kitsap', 'Kittitas', 'Klickitat', 'Kodiak Island', 'Kootenai', 'Lake', 'Lake and Peninsula', 'Latah', 'Lemhi', 'Lewis', 'Lewis', 'Lewis and Clark', 'Liberty', 'Lincoln', 'Lincoln', 'Madison', 'Mason', 'Matanuska-Susitna', 'McCone', 'Meagher', 'Mineral', 'Missoula', 'Musselshell', 'Nez Perce', 'Nome', 'North Slope', 'Northwest Arctic', 'Okanogan', 'Pacific', 'Park', 'Pend Oreille', 'Petroleum', 'Phillips', 'Pierce', 'Pondera', 'Powder River', 'Powell', 'Prairie', 'Prince of Wales-Outer Ketchikan', 'Ravalli', 'Richland', 'Roosevelt', 'Rosebud', 'San Juan', 'Sanders', 'Sheridan', 'Shoshone', 'Silver Bow', 'Sitka', 'Skagit', 'Skagway-Hoonah-Angoon', 'Snohomish', 'Southeast Fairbanks', 'Spokane', 'Stevens', 'Stillwater', 'Sweet Grass', 'Teton', 'Thurston', 'Toole', 'Treasure', 'Valdez-Cordova', 'Valley', 'Wade Hampton', 'Wahkiakum', 'Whatcom', 'Wheatland', 'Whitman', 'Wibaux', 'Wrangell-Petersburg', 'Yakima', 'Yakutat', 'Yellowstone', 'Yukon-Koyukuk']}, 'Life Connection of Ohio': {'state': 'Ohio', 'counties': ['Allen', 'Auglaize', 'Clark', 'Darke', 'Defiance', 'Fulton', 'Greene', 'Hancock', 'Henry', 'Lucas', 'Mercer', 'Miami', 'Montgomery', 'Ottawa', 'Paulding', 'Preble', 'Putnam', 'Sandusky', 'Seneca', 'Shelby', 'Van Wert', 'Williams', 'Wood']}, 'New Jersey Organ and Tissue Sharing Network OPO': {'state': 'New Jersey', 'counties': ['Bergen', 'Essex', 'Hudson', 'Hunterdon', 'Mercer', 'Middlesex', 'Monmouth', 'Morris', 'Ocean', 'Passaic', 'Somerset', 'Sussex', 'Union', 'Warren']}, 'Louisiana Organ Procurement Agency': {'state': 'Louisiana', 'counties': ['Acadia', 'Allen', 'Ascension', 'Assumption', 'Avoyelles', 'Beauregard', 'Bienville', 'Bossier', 'Caddo', 'Calcasieu', 'Caldwell', 'Cameron', 'Catahoula', 'Claiborne', 'Concordia', 'De Soto', 'East Baton Rouge', 'East Carroll', 'East Feliciana', 'Evangeline', 'Franklin', 'Grant', 'Iberia', 'Iberville', 'Jackson', 'Jefferson', 'Jefferson Davis', 'La Salle', 'Lafayette', 'Lafourche', 'Lincoln', 'Livingston', 'Madison', 'Morehouse', 'Natchitoches', 'Orleans', 'Ouachita', 'Plaquemines', 'Pointe Coupee', 'Rapides', 'Red River', 'Richland', 'Sabine', 'St. Bernard', 'St. Charles', 'St. Helena', 'St. James', 'St. John the Baptist', 'St. Landry', 'St. Martin', 'St. Mary', 'St. Tammany', 'Tangipahoa', 'Tensas', 'Terrebonne', 'Union', 'Vermilion', 'Vernon', 'Washington', 'Webster', 'West Baton Rouge', 'West Carroll', 'West Feliciana', 'Winn']}, 'Legacy of Life Hawaii': {'state': 'Hawaii', 'counties': ['Hawaii', 'Honolulu', 'Kalawao', 'Kauai', 'Maui']}, 'Alabama Organ Center': {'state': 'Georgia', 'counties': ['Autauga', 'Baldwin', 'Barbour', 'Bibb', 'Blount', 'Bullock', 'Butler', 'Calhoun', 'Chambers', 'Chattahoochee', 'Cherokee', 'Chilton', 'Choctaw', 'Clarke', 'Clay', 'Cleburne', 'Coffee', 'Colbert', 'Conecuh', 'Coosa', 'Covington', 'Crenshaw', 'Cullman', 'Dale', 'Dallas', 'DeKalb', 'Elmore', 'Escambia', 'Etowah', 'Fayette', 'Franklin', 'Geneva', 'Greene', 'Hale', 'Henry', 'Houston', 'Jackson', 'Jefferson', 'Lamar', 'Lauderdale', 'Lawrence', 'Lee', 'Limestone', 'Lowndes', 'Macon', 'Madison', 'Marengo', 'Marion', 'Marshall', 'Mobile', 'Monroe', 'Montgomery', 'Morgan', 'Muscogee', 'Perry', 'Pickens', 'Pike', 'Randolph', 'Russell', 'Shelby', 'St. Clair', 'Sumter', 'Talladega', 'Tallapoosa', 'Tuscaloosa', 'Walker', 'Washington', 'Wilcox', 'Winston']}, 'Nebraska Organ Recovery System': {'state': 'Nebraska', 'counties': ['Adams', 'Antelope', 'Arthur', 'Banner', 'Blaine', 'Boone', 'Box Butte', 'Boyd', 'Brown', 'Buffalo', 'Burt', 'Butler', 'Cass', 'Cedar', 'Chase', 'Cherry', 'Cheyenne', 'Clay', 'Colfax', 'Cuming', 'Custer', 'Dawes', 'Dawson', 'Deuel', 'Dixon', 'Dodge', 'Douglas', 'Dundy', 'Fillmore', 'Franklin', 'Frontier', 'Furnas', 'Gage', 'Garden', 'Garfield', 'Gosper', 'Grant', 'Greeley', 'Hall', 'Hamilton', 'Harlan', 'Hayes', 'Hitchcock', 'Holt', 'Hooker', 'Howard', 'Jefferson', 'Johnson', 'Kearney', 'Keith', 'Keya Paha', 'Kimball', 'Knox', 'Lancaster', 'Lincoln', 'Logan', 'Loup', 'Madison', 'McPherson', 'Merrick', 'Morrill', 'Nance', 'Nemaha', 'Nuckolls', 'Otoe', 'Pawnee', 'Perkins', 'Phelps', 'Pierce', 'Platte', 'Polk', 'Pottawattamie', 'Red Willow', 'Richardson', 'Rock', 'Saline', 'Sarpy', 'Saunders', 'Scotts Bluff', 'Seward', 'Sheridan', 'Sherman', 'Sioux', 'Stanton', 'Thayer', 'Thomas', 'Thurston', 'Valley', 'Washington', 'Wayne', 'Webster', 'Wheeler', 'York']}, 'Washington Regional Transplant Community': {'state': 'West Virginia', 'counties': ['Alexandria City', 'Arlington', 'Berkeley', 'Charles', 'Clarke', 'Culpeper', 'District of Columbia', 'Fairfax', 'Fairfax City', 'Falls Church City', 'Fauquier', 'Fredericksburg City', 'Jefferson', 'King George', 'Loudoun', 'Manassas City', 'Manassas Park City', 'Montgomery', \"Prince George's\", 'Prince William', 'Spotsylvania', 'Stafford', 'Warren']}, 'OneLegacy': {'state': 'California', 'counties': ['Kern', 'Los Angeles', 'Orange', 'Riverside', 'San Bernardino', 'Santa Barbara', 'Ventura']}, 'Mid-America Transplant Services': {'state': 'Missouri', 'counties': ['Alexander', 'Bollinger', 'Bond', 'Butler', 'Cape Girardeau', 'Carter', 'Christian', 'Clark', 'Clay', 'Clinton', 'Craighead', 'Crawford', 'Dent', 'Dunklin', 'Edwards', 'Franklin', 'Franklin', 'Gallatin', 'Gasconade', 'Greene', 'Greene', 'Hamilton', 'Hardin', 'Howell', 'Independence', 'Iron', 'Jackson', 'Jefferson', 'Jefferson', 'Jersey', 'Johnson', 'Knox', 'Lawrence', 'Lewis', 'Lincoln', 'Madison', 'Madison', 'Maries', 'Marion', 'Marion', 'Massac', 'Mississippi', 'Monroe', 'Monroe', 'Montgomery', 'New Madrid', 'Oregon', 'Osage', 'Pemiscot', 'Perry', 'Perry', 'Phelps', 'Pike', 'Polk', 'Pope', 'Pulaski', 'Ralls', 'Randolph', 'Reynolds', 'Ripley', 'Saline', 'Scotland', 'Scott', 'Shannon', 'Shelby', 'St. Charles', 'St. Clair', 'St. Francois', 'St. Louis', 'St. Louis City', 'Ste. Genevieve', 'Stoddard', 'Taney', 'Texas', 'Union', 'Wabash', 'Warren', 'Washington', 'Washington', 'Wayne', 'Wayne', 'Webster', 'White', 'Williamson']}, 'Nevada Donor Network': {'state': 'Nevada', 'counties': ['Churchill', 'Clark', 'Douglas', 'Elko', 'Esmeralda', 'Eureka', 'Humboldt', 'Lander', 'Lincoln', 'Lyon', 'Mineral', 'Mohave', 'Nye', 'Pershing', 'Storey', 'White Pine']}, 'Mississippi Organ Recovery Agency': {'state': 'Mississippi', 'counties': ['Adams', 'Amite', 'Attala', 'Calhoun', 'Carroll', 'Choctaw', 'Claiborne', 'Clarke', 'Copiah', 'Covington', 'Forrest', 'Franklin', 'George', 'Greene', 'Grenada', 'Hancock', 'Harrison', 'Hinds', 'Holmes', 'Humphreys', 'Issaquena', 'Itawamba', 'Jackson', 'Jasper', 'Jefferson', 'Jefferson Davis', 'Jones', 'Kemper', 'Lamar', 'Lauderdale', 'Lawrence', 'Leake', 'Lee', 'Leflore', 'Lincoln', 'Madison', 'Marion', 'Monroe', 'Montgomery', 'Neshoba', 'Newton', 'Noxubee', 'Oktibbeha', 'Pearl River', 'Perry', 'Pike', 'Rankin', 'Scott', 'Sharkey', 'Simpson', 'Smith', 'Stone', 'Sunflower', 'Tallahatchie', 'Walthall', 'Warren', 'Washington', 'Wayne', 'Webster', 'Wilkinson', 'Winston', 'Yalobusha', 'Yazoo']}, 'California Transplant Donor Network': {'state': 'Nevada', 'counties': ['Alameda', 'Alpine', 'Butte', 'Carson City', 'Contra Costa', 'Del Norte', 'Fresno', 'Glenn', 'Humboldt', 'Inyo', 'Kings', 'Lake', 'Lassen', 'Madera', 'Marin', 'Mariposa', 'Mendocino', 'Merced', 'Modoc', 'Mono', 'Monterey', 'Napa', 'Plumas', 'San Benito', 'San Francisco', 'San Joaquin', 'San Luis Obispo', 'San Mateo', 'Santa Clara', 'Santa Cruz', 'Shasta', 'Siskiyou', 'Solano', 'Sonoma', 'Stanislaus', 'Tehama', 'Trinity', 'Tulare', 'Tuolumne', 'Washoe']}, 'LifeNet Health': {'state': 'Virginia', 'counties': ['Accomack', 'Albemarle', 'Alleghany', 'Amelia', 'Amherst', 'Appomattox', 'Augusta', 'Bath', 'Bedford', 'Bedford City', 'Bland', 'Botetourt', 'Brunswick', 'Buckingham', 'Buena Vista City', 'Campbell', 'Caroline', 'Carroll', 'Charles City', 'Charlotte', 'Charlottesville City', 'Chesapeake City', 'Chesterfield', 'Colonial Heights City', 'Covington City', 'Craig', 'Cumberland', 'Currituck', 'Dinwiddie', 'Emporia City', 'Essex', 'Floyd', 'Fluvanna', 'Franklin', 'Franklin City', 'Frederick', 'Galax City', 'Giles', 'Gloucester', 'Goochland', 'Grayson', 'Greene', 'Greensville', 'Halifax', 'Hampton City', 'Hanover', 'Harrisonburg City', 'Henrico', 'Henry', 'Highland', 'Hopewell City', 'Isle of Wight', 'James City', 'King and Queen', 'King William', 'Lancaster', 'Lexington City', 'Louisa', 'Lunenburg', 'Lynchburg City', 'Madison', 'Martinsville City', 'Mathews', 'Mecklenburg', 'Middlesex', 'Montgomery', 'Nelson', 'New Kent', 'Newport News City', 'Norfolk City', 'Northampton', 'Northumberland', 'Nottoway', 'Orange', 'Page', 'Patrick', 'Petersburg City', 'Poquoson City', 'Portsmouth City', 'Powhatan', 'Prince Edward', 'Prince George', 'Pulaski', 'Radford City', 'Rappahannock', 'Richmond', 'Richmond City', 'Roanoke', 'Roanoke City', 'Rockbridge', 'Rockingham', 'Salem City', 'Shenandoah', 'Southampton', 'Staunton City', 'Suffolk City', 'Surry', 'Sussex', 'Tazewell', 'Virginia Beach City', 'Waynesboro City', 'Westmoreland', 'Williamsburg City', 'Winchester City', 'Wythe', 'York']}, 'Center for Donation and Transplant': {'state': 'Vermont', 'counties': ['Addison', 'Albany', 'Bennington', 'Broome', 'Chittenden', 'Clinton', 'Columbia', 'Delaware', 'Essex', 'Franklin', 'Franklin', 'Fulton', 'Grand Isle', 'Greene', 'Hamilton', 'Herkimer', 'Lamoille', 'Montgomery', 'Oneida', 'Otsego', 'Rensselaer', 'Rutland', 'Saratoga', 'Schenectady', 'Schoharie', 'Sullivan', 'Tioga', 'Ulster', 'Warren', 'Washington']}, 'LifeLink of Puerto Rico': {'state': 'U.S. Virgin Islands', 'counties': ['Adjuntas', 'Aguada', 'Aguadilla', 'Aguas Buenas', 'Aibonito', 'Anasco', 'Arecibo', 'Arroyo', 'Barceloneta', 'Barranquitas', \"Bayamo'n\", 'Cabo Rojo', 'Caguas', 'Camuy', 'Canovanas', 'Carolina', 'Catano', 'Cayey', 'Ceiba', 'Ciales', 'Cidra', 'Coamo', 'Comerio', 'Corozal', 'Culebra', 'Dorado', 'Fajardo', 'Florida', 'Guanica', 'Guayama', 'Guayanilla', 'Guaynabo', 'Gurabo', 'Hatillo', 'Hormigueros', 'Humacao', 'Jayuya', 'Juana Diaz', 'Juncos', 'Lajas', 'Lares', 'Las Marias', 'Las Piedras', 'Loiza', 'lsabela', 'Luquillo', 'Manati', 'Maricao', 'Maunabo', 'Mayaguez', 'Moca', 'Morovis', 'Naguabo', 'Naranjito', 'Orocovis', 'Patillas', 'Penuelas', 'Ponce', 'Quebradillas', 'Rincon', 'Rio Grande', 'Sabana Grande', 'Salinas', 'San German', 'San Juan', 'San Lorenzo', 'San Sebastian', 'Santa Isabel', 'St. Croix', 'St. John', 'St. Thomas', 'Toa Alta', 'Toa Baja', 'Trujillo Alto', 'Utuado', 'Vega Alta', 'Vega Baja', 'Vieques', 'Villalba', 'Yabucoa', 'Yauco']}, 'Wisconsin Donor Network': {'state': 'Wisconsin', 'counties': ['Door', 'Kenosha', 'Manitowoc', 'Milwaukee', 'Ozaukee', 'Racine', 'Sheboygan', 'Walworth', 'Washington', 'Waukesha']}, 'LifeQuest Organ Recovery Services': {'state': 'Florida', 'counties': ['Alachua', 'Baker', 'Bay', 'Bradford', 'Calhoun', 'Citrus', 'Clay', 'Columbia', 'Dixie', 'Duval', 'Escambia', 'Franklin', 'Gadsden', 'Gilchrist', 'Gulf', 'Hamilton', 'Holmes', 'Jackson', 'Jefferson', 'Lafayette', 'Leon', 'Levy', 'Liberty', 'Madison', 'Marion', 'Nassau', 'Okaloosa', 'Putnam', 'Santa Rosa', 'St. Johns', 'Suwannee', 'Taylor', 'Union', 'Wakulla', 'Walton', 'Washington']}, 'Lifeline of Ohio': {'state': 'West Virginia', 'counties': ['Athens', 'Belmont', 'Brooke', 'Champaign', 'Coshocton', 'Crawford', 'Delaware', 'Fairfield', 'Fayette', 'Franklin', 'Gallia', 'Guernsey', 'Hancock', 'Hardin', 'Highland', 'Hocking', 'Jackson', 'Jefferson', 'Knox', 'Licking', 'Logan', 'Madison', 'Marion', 'Marshall', 'Meigs', 'Monroe', 'Morgan', 'Morrow', 'Muskingum', 'Noble', 'Ohio', 'Perry', 'Pickaway', 'Pike', 'Richland', 'Ross', 'Scioto', 'Union', 'Vinton', 'Washington', 'Wood', 'Wyandot']}, 'Midwest Transplant Network': {'state': 'Missouri', 'counties': ['Adair', 'Allen', 'Anderson', 'Andrew', 'Atchison', 'Atchison', 'Audrain', 'Barber', 'Barry', 'Barton', 'Barton', 'Bates', 'Benton', 'Boone', 'Bourbon', 'Brown', 'Buchanan', 'Butler', 'Caldwell', 'Callaway', 'Camden', 'Carroll', 'Cass', 'Cedar', 'Chariton', 'Chase', 'Chautauqua', 'Cherokee', 'Cheyenne', 'Clark', 'Clay', 'Clay', 'Clinton', 'Cloud', 'Coffey', 'Cole', 'Comanche', 'Cooper', 'Cowley', 'Crawford', 'Dade', 'Dallas', 'Daviess', 'Decatur', 'DeKalb', 'Dickinson', 'Doniphan', 'Douglas', 'Douglas', 'Edwards', 'Elk', 'Ellis', 'Ellsworth', 'Finney', 'Ford', 'Franklin', 'Geary', 'Gentry', 'Gove', 'Graham', 'Grant', 'Gray', 'Greeley', 'Greenwood', 'Grundy', 'Hamilton', 'Harper', 'Harrison', 'Harvey', 'Haskell', 'Henry', 'Hickory', 'Hodgeman', 'Holt', 'Howard', 'Jackson', 'Jackson', 'Jasper', 'Jefferson', 'Jewell', 'Johnson', 'Johnson', 'Kearny', 'Kingman', 'Kiowa', 'Labette', 'Laclede', 'Lafayette', 'Lane', 'Lawrence', 'Leavenworth', 'Lincoln', 'Linn', 'Linn', 'Livingston', 'Logan', 'Lyon', 'Macon', 'Marion', 'Marshall', 'McDonald', 'McPherson', 'Meade', 'Mercer', 'Miami', 'Miller', 'Mitchell', 'Moniteau', 'Montgomery', 'Morgan', 'Morris', 'Morton', 'Nemaha', 'Neosho', 'Ness', 'Newton', 'Nodaway', 'Norton', 'Osage', 'Osborne', 'Ottawa', 'Ozark', 'Pawnee', 'Pettis', 'Phillips', 'Platte', 'Pottawatomie', 'Pratt', 'Pulaski', 'Putnam', 'Randolph', 'Rawlins', 'Ray', 'Reno', 'Republic', 'Rice', 'Riley', 'Rooks', 'Rush', 'Russell', 'Saline', 'Saline', 'Schuyler', 'Scott', 'Sedgwick', 'Seward', 'Shawnee', 'Sheridan', 'Sherman', 'Smith', 'St. Clair', 'Stafford', 'Stanton', 'Stevens', 'Stone', 'Sullivan', 'Sumner', 'Thomas', 'Trego', 'Vernon', 'Wabaunsee', 'Wallace', 'Washington', 'Wichita', 'Wilson', 'Woodson', 'Worth', 'Wright', 'Wyandotte']}, 'Pacific Northwest Transplant Bank': {'state': 'Washington', 'counties': ['Ada', 'Adams', 'Baker', 'Benton', 'Boise', 'Canyon', 'Clackamas', 'Clark', 'Clatsop', 'Columbia', 'Coos', 'Cowlitz', 'Crook', 'Curry', 'Deschutes', 'Douglas', 'Gem', 'Gilliam', 'Grant', 'Harney', 'Hood River', 'Jackson', 'Jefferson', 'Josephine', 'Klamath', 'Lake', 'Lane', 'Lincoln', 'Linn', 'Malheur', 'Marion', 'Morrow', 'Multnomah', 'Payette', 'Polk', 'Sherman', 'Skamania', 'Tillamook', 'Umatilla', 'Union', 'Valley', 'Walla Walla', 'Wallowa', 'Wasco', 'Washington', 'Washington', 'Wheeler', 'Yamhill']}, 'LifeCenter Organ Donor Network': {'state': 'Ohio', 'counties': ['Adams', 'Boone', 'Brown', 'Butler', 'Campbell', 'Clermont', 'Clinton', 'Dearborn', 'Gallatin', 'Grant', 'Hamilton', 'Kenton', 'Ohio', 'Pendleton', 'Warren']}, 'Texas Organ Sharing Alliance': {'state': 'Texas', 'counties': ['Atascosa', 'Bandera', 'Bastrop', 'Bexar', 'Blanco', 'Brooks', 'Burleson', 'Burnet', 'Caldwell', 'Cameron', 'Comal', 'DeWitt', 'Dimmit', 'Duval', 'Edwards', 'Fayette', 'Frio', 'Gillespie', 'Gonzales', 'Guadalupe', 'Hays', 'Hidalgo', 'Jim Hogg', 'Karnes', 'Kendall', 'Kenedy', 'Kerr', 'Kimble', 'Kinney', 'La Salle', 'Lampasas', 'Lee', 'Live Oak', 'Llano', 'Mason', 'Maverick', 'McCulloch', 'McLennan', 'McMullen', 'Medina', 'Menard', 'Milam', 'Real', 'San Saba', 'Starr', 'Sutton', 'Tom Green', 'Travis', 'Uvalde', 'Val Verde', 'Webb', 'Willacy', 'Williamson', 'Wilson', 'Zapata', 'Zavala']}, 'Gift of Life Michigan': {'state': 'Michigan', 'counties': ['Alcona', 'Allegan', 'Alpena', 'Antrim', 'Arenac', 'Barry', 'Bay', 'Benzie', 'Berrien', 'Branch', 'Calhoun', 'Cass', 'Charlevoix', 'Cheboygan', 'Chippewa', 'Clare', 'Clinton', 'Crawford', 'Eaton', 'Emmet', 'Genesee', 'Gladwin', 'Grand Traverse', 'Gratiot', 'Hillsdale', 'Huron', 'Ingham', 'Ionia', 'Iosco', 'Isabella', 'Jackson', 'Kalamazoo', 'Kalkaska', 'Kent', 'Lake', 'Lapeer', 'Leelanau', 'Lenawee', 'Livingston', 'Luce', 'Mackinac', 'Macomb', 'Manistee', 'Mason', 'Mecosta', 'Midland', 'Missaukee', 'Monroe', 'Montcalm', 'Montmorency', 'Muskegon', 'Newaygo', 'Oakland', 'Oceana', 'Ogemaw', 'Osceola', 'Oscoda', 'Otsego', 'Ottawa', 'Presque Isle', 'Roscommon', 'Saginaw', 'Sanilac', 'Schoolcraft', 'Shiawassee', 'St. Clair', 'St. Joseph', 'Tuscola', 'Van Buren', 'Washtenaw', 'Wayne', 'Wexford']}, 'Gift of Life Donor Program': {'state': 'Pennsylvania', 'counties': ['Adams', 'Atlantic', 'Berks', 'Bucks', 'Burlington', 'Camden', 'Cape May', 'Carbon', 'Centre', 'Chester', 'Clinton', 'Columbia', 'Cumberland', 'Cumberland', 'Dauphin', 'Delaware', 'Gloucester', 'Juniata', 'Kent', 'Lackawanna', 'Lancaster', 'Lebanon', 'Lehigh', 'Luzerne', 'Lycoming', 'Mifflin', 'Monroe', 'Montgomery', 'Montour', 'New Castle', 'Northampton', 'Northumberland', 'Perry', 'Philadelphia', 'Salem', 'Schuylkill', 'Snyder', 'Sullivan', 'Susquehanna', 'Sussex', 'Tioga', 'Union', 'Wayne', 'Wyoming', 'York']}, 'LifeGift Organ Donation Center': {'state': 'Texas', 'counties': ['Andrews', 'Angelina', 'Armstrong', 'Austin', 'Bailey', 'Borden', 'Brazoria', 'Briscoe', 'Calhoun', 'Carson', 'Castro', 'Chambers', 'Childress', 'Cochran', 'Coke', 'Collingsworth', 'Colorado', 'Concho', 'Cottle', 'Crosby', 'Dallam', 'Dawson', 'Deaf Smith', 'Dickens', 'Donley', 'Erath', 'Fisher', 'Floyd', 'Foard', 'Fort Bend', 'Gaines', 'Garza', 'Glasscock', 'Gray', 'Grimes', 'Hale', 'Hall', 'Hamilton', 'Hansford', 'Hardeman', 'Harris', 'Hartley', 'Haskell', 'Hemphill', 'Hockley', 'Hood', 'Houston', 'Howard', 'Hutchinson', 'Irion', 'Jackson', 'Jasper', 'Jeff Davis', 'Johnson', 'Jones', 'Kent', 'King', 'Knox', 'Lamb', 'Lavaca', 'Liberty', 'Lipscomb', 'Lubbock', 'Lynn', 'Madison', 'Martin', 'Matagorda', 'Mitchell', 'Montgomery', 'Moore', 'Motley', 'Nacogdoches', 'Newton', 'Nolan', 'Ochiltree', 'Oldham', 'Palo Pinto', 'Parker', 'Parmer', 'Polk', 'Potter', 'Presidio', 'Randall', 'Roberts', 'Runnels', 'Sabine', 'San Augustine', 'San Jacinto', 'Scurry', 'Shackelford', 'Shelby', 'Sherman', 'Somervell', 'Stonewall', 'Swisher', 'Tarrant', 'Terrell', 'Terry', 'Throckmorton', 'Trinity', 'Tyler', 'Walker', 'Waller', 'Washington', 'Wharton', 'Wheeler', 'Wilbarger', 'Wise', 'Yoakum']}, 'Tennessee Donor Services': {'state': 'Virginia', 'counties': ['Anderson', 'Bedford', 'Benton', 'Bledsoe', 'Blount', 'Bradley', 'Bristol City', 'Buchanan', 'Campbell', 'Cannon', 'Carter', 'Catoosa', 'Cheatham', 'Chester', 'Claiborne', 'Clay', 'Cocke', 'Coffee', 'Crockett', 'Cumberland', 'Dade', 'Davidson', 'Decatur', 'DeKalb', 'Dickenson', 'Dickson', 'Fentress', 'Franklin', 'Gibson', 'Giles', 'Grainger', 'Greene', 'Grundy', 'Hamblen', 'Hamilton', 'Hancock', 'Hardin', 'Hawkins', 'Henry', 'Hickman', 'Houston', 'Humphreys', 'Jackson', 'Jefferson', 'Johnson', 'Knox', 'Lawrence', 'Lee', 'Lewis', 'Lincoln', 'Loudon', 'Macon', 'Madison', 'Marion', 'Marshall', 'Maury', 'McMinn', 'McNairy', 'Meigs', 'Monroe', 'Montgomery', 'Moore', 'Morgan', 'Norton City', 'Overton', 'Perry', 'Pickett', 'Polk', 'Putnam', 'Rhea', 'Roane', 'Robertson', 'Russell', 'Rutherford', 'Scott', 'Scott', 'Sequatchie', 'Sevier', 'Smith', 'Smyth', 'Stewart', 'Sullivan', 'Sumner', 'Trousdale', 'Unicoi', 'Union', 'Van Buren', 'Walker', 'Warren', 'Washington', 'Washington', 'Wayne', 'Weakley', 'White', 'Williamson', 'Wilson', 'Wise']}, 'The Living Legacy Foundation of Maryland': {'state': 'Maryland', 'counties': ['Allegany', 'Anne Arundel', 'Baltimore', 'Baltimore City', 'Calvert', 'Caroline', 'Carroll', 'Cecil', 'Dorchester', 'Frederick', 'Garrett', 'Harford', 'Howard', 'Kent', \"Queen Anne's\", 'Somerset', \"St. Mary's\", 'Talbot', 'Washington', 'Wicomico', 'Worcester']}, 'UW Health Organ and Tissue Donation': {'state': 'Wisconsin', 'counties': ['Adams', 'Alger', 'Ashland', 'Baraga', 'Barron', 'Bayfield', 'Brown', 'Buffalo', 'Burnett', 'Calumet', 'Chippewa', 'Clark', 'Columbia', 'Crawford', 'Dane', 'Delta', 'Dickinson', 'Dodge', 'Dunn', 'Eau Claire', 'Florence', 'Fond du Lac', 'Forest', 'Gogebic', 'Grant', 'Green', 'Green Lake', 'Houghton', 'Houston', 'Iowa', 'Iron', 'Iron', 'Jackson', 'Jefferson', 'Juneau', 'Kewaunee', 'Keweenaw', 'La Crosse', 'Lafayette', 'Langlade', 'Lincoln', 'Marathon', 'Marinette', 'Marquette', 'Marquette', 'Menominee', 'Menominee', 'Monroe', 'Oconto', 'Oneida', 'Ontonagon', 'Outagamie', 'Pepin', 'Polk', 'Portage', 'Price', 'Richland', 'Rock', 'Rusk', 'Sauk', 'Sawyer', 'Shawano', 'Taylor', 'Trempealeau', 'Vernon', 'Vilas', 'Washburn', 'Waupaca', 'Waushara', 'Winnebago', 'Wood']}, 'Center for Organ Recovery and Education': {'state': 'West Virginia', 'counties': ['Allegheny', 'Armstrong', 'Barbour', 'Beaver', 'Bedford', 'Blair', 'Boone', 'Bradford', 'Braxton', 'Butler', 'Calhoun', 'Cambria', 'Cameron', 'Chemung', 'Clarion', 'Clay', 'Clearfield', 'Crawford', 'Doddridge', 'Elk', 'Erie', 'Fayette', 'Fayette', 'Forest', 'Franklin', 'Fulton', 'Gilmer', 'Grant', 'Greenbrier', 'Greene', 'Hampshire', 'Hardy', 'Harrison', 'Huntingdon', 'Indiana', 'Jackson', 'Jefferson', 'Kanawha', 'Lawrence', 'Lewis', 'Lincoln', 'Logan', 'Marion', 'Mason', 'McDowell', 'McKean', 'Mercer', 'Mercer', 'Mineral', 'Mingo', 'Monongalia', 'Monroe', 'Morgan', 'Nicholas', 'Pendleton', 'Pleasants', 'Pocahontas', 'Potter', 'Preston', 'Putnam', 'Raleigh', 'Randolph', 'Ritchie', 'Roane', 'Somerset', 'Summers', 'Taylor', 'Tucker', 'Tyler', 'Upshur', 'Venango', 'Warren', 'Washington', 'Webster', 'Westmoreland', 'Wetzel', 'Wirt', 'Wyoming']}, 'Donor Network of Arizona': {'state': 'Arizona', 'counties': ['Apache', 'Cochise', 'Coconino', 'Gila', 'Graham', 'Greenlee', 'La Paz', 'Maricopa', 'Navajo', 'Pima', 'Pinal', 'Santa Cruz', 'Yavapai', 'Yuma']}, 'Mid-South Transplant Foundation': {'state': 'Tennessee', 'counties': ['Alcorn', 'Benton', 'Bolivar', 'Carroll', 'Chickasaw', 'Clay', 'Coahoma', 'Crittenden', 'Cross', 'DeSoto', 'Dyer', 'Fayette', 'Hardeman', 'Haywood', 'Henderson', 'Lafayette', 'Lake', 'Lauderdale', 'Lee', 'Lowndes', 'Marshall', 'Mississippi', 'Obion', 'Panola', 'Phillips', 'Pontotoc', 'Prentiss', 'Quitman', 'Shelby', 'St. Francis', 'Tate', 'Tippah', 'Tipton', 'Tishomingo', 'Tunica', 'Union']}, 'Carolina Donor Services': {'state': 'Virginia', 'counties': ['Alamance', 'Alexander', 'Alleghany', 'Ashe', 'Avery', 'Beaufort', 'Bertie', 'Bladen', 'Brunswick', 'Caldwell', 'Camden', 'Carteret', 'Caswell', 'Catawba', 'Chatham', 'Chowan', 'Columbus', 'Craven', 'Cumberland', 'Danville City', 'Dare', 'Davidson', 'Davie', 'Duplin', 'Durham', 'Edgecombe', 'Forsyth', 'Franklin', 'Gates', 'Granville', 'Greene', 'Guilford', 'Halifax', 'Harnett', 'Hertford', 'Hoke', 'Hyde', 'Iredell', 'Johnston', 'Jones', 'Lee', 'Lenoir', 'Martin', 'McDowell', 'Mitchell', 'Montgomery', 'Moore', 'Nash', 'New Hanover', 'Northampton', 'Onslow', 'Orange', 'Pamlico', 'Pasquotank', 'Pender', 'Perquimans', 'Person', 'Pitt', 'Pittsylvania', 'Randolph', 'Richmond', 'Robeson', 'Rockingham', 'Rowan', 'Sampson', 'Scotland', 'Stokes', 'Surry', 'Tyrrell', 'Vance', 'Wake', 'Warren', 'Washington', 'Watauga', 'Wayne', 'Wilkes', 'Wilson', 'Yadkin', 'Yancey']}, 'New England Organ Bank': {'state': 'Vermont', 'counties': ['Androscoggin', 'Aroostook', 'Barnstable', 'Belknap', 'Berkshire', 'Bristol', 'Bristol', 'Caledonia', 'Carroll', 'Cheshire', 'Coos', 'Cumberland', 'Dukes', 'Essex', 'Essex', 'Fairfield', 'Franklin', 'Grafton', 'Hancock', 'Hillsborough', 'Kennebec', 'Kent', 'Knox', 'Lincoln', 'Merrimack', 'Middlesex', 'Nantucket', 'New Haven', 'Newport', 'Norfolk', 'Orange', 'Orleans', 'Oxford', 'Penobscot', 'Piscataquis', 'Plymouth', 'Providence', 'Rockingham', 'Sagadahoc', 'Somerset', 'Strafford', 'Suffolk', 'Sullivan', 'Waldo', 'Washington', 'Washington', 'Washington', 'Windham', 'Windsor', 'Worcester', 'York']}, 'New York Organ Donor Network': {'state': 'Pennsylvania', 'counties': ['Bronx', 'Dutchess', 'Kings', 'Nassau', 'New York', 'Orange', 'Pike', 'Putnam', 'Queens', 'Richmond', 'Rockland', 'Suffolk', 'Westchester']}, 'LifeLink of Georgia': {'state': 'South Carolina', 'counties': ['Aiken', 'Appling', 'Atkinson', 'Bacon', 'Baker', 'Baldwin', 'Banks', 'Barrow', 'Bartow', 'Ben Hill', 'Berrien', 'Bibb', 'Bleckley', 'Brantley', 'Brooks', 'Bryan', 'Bulloch', 'Burke', 'Butts', 'Calhoun', 'Camden', 'Candler', 'Carroll', 'Charlton', 'Chatham', 'Chattooga', 'Cherokee', 'Clarke', 'Clay', 'Clayton', 'Clinch', 'Cobb', 'Coffee', 'Colquitt', 'Columbia', 'Cook', 'Coweta', 'Crawford', 'Crisp', 'Dawson', 'Decatur', 'DeKalb', 'Dodge', 'Dooly', 'Dougherty', 'Douglas', 'Early', 'Echols', 'Edgefield', 'Effingham', 'Elbert', 'Emanuel', 'Evans', 'Fannin', 'Fayette', 'Floyd', 'Forsyth', 'Franklin', 'Fulton', 'Gilmer', 'Glascock', 'Glynn', 'Gordon', 'Grady', 'Greene', 'Gwinnett', 'Habersham', 'Hall', 'Hancock', 'Haralson', 'Harris', 'Hart', 'Heard', 'Henry', 'Houston', 'Irwin', 'Jackson', 'Jasper', 'Jeff Davis', 'Jefferson', 'Jenkins', 'Johnson', 'Jones', 'Lamar', 'Lanier', 'Laurens', 'Lee', 'Liberty', 'Lincoln', 'Long', 'Lowndes', 'Lumpkin', 'Macon', 'Madison', 'Marion', 'McDuffie', 'McIntosh', 'Meriwether', 'Miller', 'Mitchell', 'Monroe', 'Montgomery', 'Morgan', 'Murray', 'Newton', 'Oconee', 'Oglethorpe', 'Paulding', 'Peach', 'Pickens', 'Pierce', 'Pike', 'Polk', 'Pulaski', 'Putnam', 'Quitman', 'Rabun', 'Randolph', 'Richmond', 'Rockdale', 'Schley', 'Screven', 'Seminole', 'Spalding', 'Stephens', 'Stewart', 'Sumter', 'Talbot', 'Taliaferro', 'Tattnall', 'Taylor', 'Telfair', 'Terrell', 'Thomas', 'Tift', 'Toombs', 'Towns', 'Treutlen', 'Troup', 'Turner', 'Twiggs', 'Union', 'Upson', 'Walton', 'Ware', 'Warren', 'Washington', 'Wayne', 'Webster', 'Wheeler', 'White', 'Whitfield', 'Wilcox', 'Wilkes', 'Wilkinson', 'Worth']}, 'LifePoint': {'state': 'South Carolina', 'counties': ['Abbeville', 'Allendale', 'Anderson', 'Bamberg', 'Barnwell', 'Beaufort', 'Berkeley', 'Calhoun', 'Charleston', 'Cherokee', 'Chester', 'Chesterfield', 'Clarendon', 'Colleton', 'Darlington', 'Dillon', 'Dorchester', 'Fairfield', 'Florence', 'Georgetown', 'Greenville', 'Greenwood', 'Hampton', 'Horry', 'Jasper', 'Kershaw', 'Lancaster', 'Laurens', 'Lee', 'Lexington', 'Marion', 'Marlboro', 'McCormick', 'Newberry', 'Oconee', 'Orangeburg', 'Pickens', 'Richland', 'Saluda', 'Spartanburg', 'Sumter', 'Union', 'Williamsburg']}}\n"
       ]
      }
     ],
     "prompt_number": 24
    },
    {
     "cell_type": "raw",
     "metadata": {},
     "source": [
      "Load list of county names, states and FIPS codes"
     ]
    },
    {
     "cell_type": "code",
     "collapsed": false,
     "input": [
      "'''\n",
      "filename = \"national_county.txt\"\n",
      "reader = csv.DictReader(open(filename, 'rU'))\n",
      "county_dict = {}\n",
      "county_dupes = {}\n",
      "\n",
      "for row in reader:\n",
      "    fips = row[\"State ANSI\"] + row[\"County ANSI\"]\n",
      "    state = row[\"State\"]\n",
      "    county_name = row[\"County Name\"].replace(\" County\", \"\")\n",
      "    county_dict[(state, county_name)] = fips\n",
      "    \n",
      "        \n",
      "    if county_name in county_dupes:\n",
      "        fips_list = county_dupes[county_name]\n",
      "        county_dupes[county_name] = fips_list + [fips]\n",
      "    else:\n",
      "        county_dupes[county_name] = [fips] \n",
      "        '''"
     ],
     "language": "python",
     "metadata": {},
     "outputs": [],
     "prompt_number": 16
    },
    {
     "cell_type": "code",
     "collapsed": false,
     "input": [
      "import fiona\n",
      "def get_county_from_fiona(filename):\n",
      "    \n",
      "    from shapely.geometry import shape\n",
      "\n",
      "    data = {}\n",
      "    county_dupes = {}\n",
      "    \n",
      "    c = fiona.open(filename, 'r')\n",
      "    for shape_data in c:\n",
      "        #print shape_data['properties']\n",
      "        fips =  shape_data['properties']['STATEFP'] + shape_data['properties']['COUNTYFP']\n",
      "        parsed_shape = shape(shape_data['geometry'])\n",
      "        county_name = shape_data['properties']['NAME']\n",
      "    \n",
      "        if county_name in county_dupes:\n",
      "            fips_list = county_dupes[county_name]\n",
      "            county_dupes[county_name] = fips_list + [fips]\n",
      "        else:\n",
      "            county_dupes[county_name] = [fips] \n",
      "    \n",
      "        #print county_dupes\n",
      "        data[fips] = parsed_shape\n",
      "\n",
      "    return (data, county_dupes)\n",
      "\n",
      "(county_shape_dict, county_dupes) = get_county_from_fiona(\"cb_2013_us_county_500k/cb_2013_us_county_500k.shp\")\n",
      "#print county_dupes"
     ],
     "language": "python",
     "metadata": {},
     "outputs": [],
     "prompt_number": 57
    },
    {
     "cell_type": "raw",
     "metadata": {},
     "source": [
      "    TODO: translate DSA name into 4 letter code"
     ]
    },
    {
     "cell_type": "code",
     "collapsed": false,
     "input": [
      "#print county_shape_dict[\"01001\"]\n",
      "singleton_total = 0\n",
      "for county_name in county_dupes:\n",
      "    if len(county_dupes[county_name]) == 1:\n",
      "        singleton_total += 1\n",
      "        \n",
      "print singleton_total\n",
      "print len(county_dupes)"
     ],
     "language": "python",
     "metadata": {},
     "outputs": [
      {
       "output_type": "stream",
       "stream": "stdout",
       "text": [
        "1476\n",
        "1921\n"
       ]
      }
     ],
     "prompt_number": 62
    },
    {
     "cell_type": "code",
     "collapsed": false,
     "input": [
      "not_found = []\n",
      "dsa_fips = {}\n",
      "for dsa in dsa_dict:\n",
      "    dsa_fips_list = []\n",
      "    counties = dsa_dict[dsa][\"counties\"]\n",
      "    for county in counties:\n",
      "        if county in county_dupes:\n",
      "            if len(county_dupes[county]) == 1:\n",
      "                dsa_fips_list.append(county_dupes[county][0])\n",
      "        else:\n",
      "            print \"Not found: \" + county"
     ],
     "language": "python",
     "metadata": {},
     "outputs": [
      {
       "output_type": "stream",
       "stream": "stdout",
       "text": [
        "Not found: Dona Ana\n",
        "Not found: De Kalb\n",
        "Not found: La Porte\n",
        "Not found: Lagrange\n",
        "Not found: Prince of Wales-Outer Ketchikan\n",
        "Not found: Skagway-Hoonah-Angoon\n",
        "Not found: Wrangell-Petersburg\n",
        "Not found: Alexandria City\n",
        "Not found: Fairfax City\n",
        "Not found: Falls Church City\n",
        "Not found: Fredericksburg City\n",
        "Not found: Manassas City\n",
        "Not found: Manassas Park City\n",
        "Not found: St. Louis City\n",
        "Not found: Bedford City\n",
        "Not found: Buena Vista City\n",
        "Not found: Charlottesville City\n",
        "Not found: Chesapeake City\n",
        "Not found: Colonial Heights City\n",
        "Not found: Covington City\n",
        "Not found: Emporia City\n",
        "Not found: Franklin City\n",
        "Not found: Galax City\n",
        "Not found: Hampton City\n",
        "Not found: Harrisonburg City\n",
        "Not found: Hopewell City\n",
        "Not found: Lexington City\n",
        "Not found: Lynchburg City\n",
        "Not found: Martinsville City\n",
        "Not found: Newport News City\n",
        "Not found: Norfolk City\n",
        "Not found: Petersburg City\n",
        "Not found: Poquoson City\n",
        "Not found: Portsmouth City\n",
        "Not found: Radford City\n",
        "Not found: Richmond City\n",
        "Not found: Roanoke City\n",
        "Not found: Salem City\n",
        "Not found: Staunton City\n",
        "Not found: Suffolk City\n",
        "Not found: Virginia Beach City\n",
        "Not found: Waynesboro City\n",
        "Not found: Williamsburg City\n",
        "Not found: Winchester City\n",
        "Not found: Anasco\n",
        "Not found: Bayamo'n\n",
        "Not found: Canovanas\n",
        "Not found: Catano\n",
        "Not found: Comerio\n",
        "Not found: Guanica\n",
        "Not found: Juana Diaz\n",
        "Not found: Las Marias\n",
        "Not found: Loiza\n",
        "Not found: lsabela\n",
        "Not found: Manati\n",
        "Not found: Mayaguez\n",
        "Not found: Penuelas\n",
        "Not found: Rincon\n",
        "Not found: San German\n",
        "Not found: San Sebastian\n",
        "Not found: Bristol City\n",
        "Not found: Norton City\n",
        "Not found: Baltimore City\n",
        "Not found: Danville City\n"
       ]
      }
     ],
     "prompt_number": 67
    },
    {
     "cell_type": "code",
     "collapsed": false,
     "input": [],
     "language": "python",
     "metadata": {},
     "outputs": []
    }
   ],
   "metadata": {}
  }
 ]
}